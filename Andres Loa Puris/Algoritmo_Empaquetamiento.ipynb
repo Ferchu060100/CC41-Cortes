{
 "cells": [
  {
   "cell_type": "code",
   "execution_count": 7,
   "metadata": {},
   "outputs": [],
   "source": [
    "class Pieza():\n",
    "    \n",
    "    # Constructor\n",
    "    def __init__(self,index, largo, ancho):\n",
    "        self.__index = index\n",
    "        self.__Xo = 0\n",
    "        self.__Yo = 0\n",
    "        self.__largo = largo\n",
    "        self.__ancho = ancho\n",
    "        self.__area = largo*ancho\n",
    "        self.__estado = 'N'\n",
    "    \n",
    "    # Metodos    \n",
    "    def Informar(self):\n",
    "        print(\"Id :\",self.__index)\n",
    "        print(\"Xo :\",self.__Xo)\n",
    "        print(\"Yo :\",self.__Yo)\n",
    "        print(\"Largo :\",self.__largo)\n",
    "        print(\"Ancho :\",self.__ancho)\n",
    "        print(\"Area :\",self.__area)\n",
    "        print(\"Estado :\",self.__estado)\n",
    "    \n",
    "    def Girar(self):\n",
    "        aux = self.__largo\n",
    "        self.__largo = self.__ancho\n",
    "        self.__ancho = aux\n",
    "        self.__estado = 'N' if (self.__estado == 'G') else 'G'\n",
    "        \n",
    "    def Get_area(self):\n",
    "        return self.__area\n",
    "    \n",
    "    def Get_largo(self):\n",
    "        return self.__largo\n",
    "    \n",
    "    def Get_ancho(self):\n",
    "        return self.__ancho\n",
    "    \n",
    "    def Get_index(self):\n",
    "        return self.__index\n",
    "    \n",
    "    def Get_estado(self):\n",
    "        return self.__estado\n",
    "    \n",
    "    def Get_Xo(self):\n",
    "        return self.__Xo\n",
    "        \n",
    "    def Get_Yo(self):\n",
    "        return self.__Yo\n",
    "    \n",
    "    def Set_Xo(self, Xo):\n",
    "        self.__Xo = Xo\n",
    "        \n",
    "    def Set_Yo(self, Yo):\n",
    "        self.__Yo = Yo\n",
    "        "
   ]
  }
 ],
 "metadata": {
  "kernelspec": {
   "display_name": "Python 3",
   "language": "python",
   "name": "python3"
  },
  "language_info": {
   "codemirror_mode": {
    "name": "ipython",
    "version": 3
   },
   "file_extension": ".py",
   "mimetype": "text/x-python",
   "name": "python",
   "nbconvert_exporter": "python",
   "pygments_lexer": "ipython3",
   "version": "3.7.3"
  }
 },
 "nbformat": 4,
 "nbformat_minor": 4
}
