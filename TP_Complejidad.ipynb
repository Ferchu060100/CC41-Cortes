{
 "cells": [
  {
   "cell_type": "markdown",
   "metadata": {},
   "source": [
    "### Entidad Pieza"
   ]
  },
  {
   "cell_type": "code",
   "execution_count": null,
   "metadata": {},
   "outputs": [],
   "source": [
    "class Pieza():\n",
    "    \n",
    "    # Constructor\n",
    "    def __init__(self,index, largo, ancho):\n",
    "        self.index = index\n",
    "        self.Xo = 0\n",
    "        self.Yo = 0\n",
    "        self.color = (random.randint(10, 200),random.randint(10, 200),random.randint(10, 200))\n",
    "        self.largo = largo\n",
    "        self.ancho = ancho\n",
    "        self.area = largo*ancho\n",
    "        self.estado = 'N'\n",
    "    \n",
    "    # Metodos    \n",
    "    def Informar(self):\n",
    "        print(str(self.index)+\" : \"+str(self.Xo)+\" , \"+str(self.Yo)+\" , \"+str(self.estado))\n",
    "        \n",
    "    def Girar(self):\n",
    "        aux = self.largo\n",
    "        self.largo = self.ancho\n",
    "        self.ancho = aux\n",
    "        self.estado = 'N' if (self.estado == 'G') else 'G'\n"
   ]
  },
  {
   "cell_type": "markdown",
   "metadata": {},
   "source": [
    "### Ordenar Arreglo"
   ]
  },
  {
   "cell_type": "code",
   "execution_count": null,
   "metadata": {},
   "outputs": [],
   "source": [
    "def OrdenarArreglo(piezas):\n",
    "    areas = []\n",
    "    for fig in piezas:\n",
    "        areas.append(fig.area)\n",
    "    orden = []\n",
    "    areas = set(areas)\n",
    "    areas = sorted(areas)\n",
    "    areas.reverse()\n",
    "\n",
    "    for i in range(len(areas)):\n",
    "        for j in range(len(piezas)):\n",
    "            if(areas[i] == piezas[j].area):\n",
    "                for k in piezas:\n",
    "                    if(k.index == piezas[j].index):\n",
    "                        orden.append(k)\n",
    "                j = len(piezas)\n",
    "    return orden\n"
   ]
  },
  {
   "cell_type": "markdown",
   "metadata": {},
   "source": [
    "### Imput Datos Usuario"
   ]
  },
  {
   "cell_type": "code",
   "execution_count": null,
   "metadata": {},
   "outputs": [],
   "source": [
    "def Digitar():\n",
    "    largoTotal = int(input(\" Ingrese largo de la plancha :\"))\n",
    "    anchoTotal = int(input(\" Ingrese ancho de la plancha :\"))\n",
    "\n",
    "    N = int(input(\" Cantidad de Piezas :\"))\n",
    "    n , piezas = 1 , []\n",
    "\n",
    "\n",
    "    # Imput valores\n",
    "    while n <= N:\n",
    "        index = input(\" Ingrese index :\")\n",
    "        largo = int(input(\" Ingrese largo :\"))\n",
    "        ancho = int(input(\" Ingrese ancho :\"))\n",
    "        cantidad = int(input(\" Ingrese cantidad :\"))\n",
    "        print(\"  \")\n",
    "\n",
    "        for i in range(cantidad):\n",
    "            piezas.append(Pieza(index+str(i+1),largo,ancho))\n",
    "        n+= cantidad\n",
    "        \n",
    "   \n",
    "        \n",
    "    return largoTotal, anchoTotal, piezas\n"
   ]
  },
  {
   "cell_type": "markdown",
   "metadata": {},
   "source": [
    "### Lectura Ficheros ( .txt )"
   ]
  },
  {
   "cell_type": "code",
   "execution_count": null,
   "metadata": {},
   "outputs": [],
   "source": [
    "def DataSet(data_name):\n",
    "    with open(data_name) as f:\n",
    "        w, h = [int(x) for x in next(f).split()] # read first line\n",
    "\n",
    "        array = []\n",
    "        for line in f: # read rest of lines\n",
    "            array.append([x for x in line.split()])\n",
    "\n",
    "    #Agregar\n",
    "    formas = []\n",
    "    for i in range(1,len(array)):\n",
    "        for j in range(int(array[i][3])):\n",
    "            formas.append(Pieza(array[i][0]+str(j+1),int(array[i][1]),int(array[i][2])))\n",
    "    \n",
    "    return w,h,formas    \n"
   ]
  },
  {
   "cell_type": "markdown",
   "metadata": {},
   "source": [
    "### Fuerza Bruta"
   ]
  },
  {
   "cell_type": "code",
   "execution_count": null,
   "metadata": {},
   "outputs": [],
   "source": [
    "def Algorithm(fig, figuras,largoTotal,anchoTotal):\n",
    "    colision = True\n",
    "    if(fig.ancho > fig.largo):\n",
    "        fig.Girar()\n",
    "\n",
    "    for i in range(largoTotal):\n",
    "        for j in range(anchoTotal):\n",
    "            fig.Xo = i\n",
    "            fig.Yo = j\n",
    "            for obj in figuras:\n",
    "                if (pygame.Rect(fig.Xo,fig.Yo,fig.largo,fig.ancho).colliderect(obj) or (fig.Xo+fig.largo > largoTotal or fig.Yo+fig.ancho > anchoTotal) ):\n",
    "                    colision = True\n",
    "                    break\n",
    "                else:\n",
    "                    \n",
    "                    colision = False\n",
    "                    \n",
    "            if(colision == False):\n",
    "                return fig\n"
   ]
  },
  {
   "cell_type": "markdown",
   "metadata": {},
   "source": [
    "## Main"
   ]
  },
  {
   "cell_type": "code",
   "execution_count": 4,
   "metadata": {},
   "outputs": [
    {
     "name": "stdout",
     "output_type": "stream",
     "text": [
      "A1 : 0 , 0 , N\n",
      "E1 : 0 , 98 , G\n",
      "E2 : 0 , 243 , G\n",
      "F1 : 0 , 388 , G\n",
      "F2 : 160 , 98 , G\n",
      "B1 : 0 , 533 , N\n",
      "B2 : 150 , 533 , N\n",
      "C1 : 160 , 243 , N\n",
      "C2 : 160 , 353 , N\n",
      "D1 : 270 , 0 , N\n",
      "D2 : 300 , 463 , N\n",
      "G1 : 160 , 463 , N\n"
     ]
    },
    {
     "ename": "SystemExit",
     "evalue": "",
     "output_type": "error",
     "traceback": [
      "An exception has occurred, use %tb to see the full traceback.\n",
      "\u001b[1;31mSystemExit\u001b[0m\n"
     ]
    }
   ],
   "source": [
    "import random\n",
    "import pygame, sys\n",
    "from pygame.locals import *\n",
    "\n",
    "pygame.init()\n",
    "\n",
    "soluciones = []\n",
    "valor = True\n",
    "\n",
    "#largoTotal, anchoTotal, piezas = Digitar()\n",
    "largoTotal, anchoTotal, piezas = DataSet(\"DataExample.txt\")\n",
    "\n",
    "ventana = pygame.display.set_mode((largoTotal,anchoTotal))\n",
    "piezas = OrdenarArreglo(piezas)\n",
    "\n",
    "soluciones.append(pygame.Rect(piezas[0].Xo,piezas[0].Yo,piezas[0].largo,piezas[0].ancho))\n",
    "\n",
    "\n",
    "while True:\n",
    "    ventana.fill((255,255,255))\n",
    "    \n",
    "    while len(soluciones)!=len(piezas):\n",
    "        for i in range(len(soluciones),len(piezas)):\n",
    "            aux = Algorithm(piezas[i], soluciones,largoTotal,anchoTotal)\n",
    "            soluciones.append(pygame.Rect(aux.Xo,aux.Yo,aux.largo,aux.ancho))\n",
    "            \n",
    "    if valor == True:\n",
    "        for fig in piezas:\n",
    "            fig.Informar()\n",
    "    \n",
    "    for i in range(len(soluciones)):\n",
    "        pygame.draw.rect(ventana,piezas[i].color,soluciones[i])\n",
    "        \n",
    "    valor = False\n",
    "    \n",
    "    for event in pygame.event.get():\n",
    "        if event.type == QUIT:\n",
    "            pygame.quit()\n",
    "            sys.exit()\n",
    "\n",
    "    pygame.display.update()"
   ]
  }
 ],
 "metadata": {
  "kernelspec": {
   "display_name": "Python 3",
   "language": "python",
   "name": "python3"
  },
  "language_info": {
   "codemirror_mode": {
    "name": "ipython",
    "version": 3
   },
   "file_extension": ".py",
   "mimetype": "text/x-python",
   "name": "python",
   "nbconvert_exporter": "python",
   "pygments_lexer": "ipython3",
   "version": "3.7.3"
  }
 },
 "nbformat": 4,
 "nbformat_minor": 4
}
